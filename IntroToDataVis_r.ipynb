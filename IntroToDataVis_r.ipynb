{
 "cells": [
  {
   "cell_type": "markdown",
   "id": "2bb5297a",
   "metadata": {},
   "source": [
    "# Hands-on with R + ggplot2"
   ]
  },
  {
   "cell_type": "markdown",
   "id": "c3d7df2e",
   "metadata": {},
   "source": [
    "# 1. Improving Pie Charts\n",
    "\n",
    "*What is wrong with this figure?* \n",
    "\n",
    "![](https://drive.google.com/uc?id=1K6hCHovjZV5Icbn3zd-gW86RSRjiH0i-)"
   ]
  },
  {
   "cell_type": "markdown",
   "id": "9a69f98b",
   "metadata": {},
   "source": [
    "## Let's agree that this is a monstrosity.  Now, how do we improve it?"
   ]
  },
  {
   "cell_type": "code",
   "execution_count": null,
   "id": "70e13421",
   "metadata": {},
   "outputs": [],
   "source": [
    "# import the necessary library\n",
    "library(ggplot2)"
   ]
  },
  {
   "cell_type": "markdown",
   "id": "2912b7db",
   "metadata": {},
   "source": [
    "## 1.1. Read in the data\n",
    "\n",
    "*This is a made up data set from a colleague of mine. We have 10 items, each with a text label and a numeric value.*\n",
    "\n",
    "*I'm using ```read.csv``` to read in the data.*"
   ]
  },
  {
   "cell_type": "code",
   "execution_count": null,
   "id": "bba5ab68",
   "metadata": {},
   "outputs": [],
   "source": [
    "url = 'https://raw.githubusercontent.com/ageller/IDEAS_FSS-Vis/master/matplotlib/bar/bar.csv'\n",
    "data = read.csv(url)\n",
    "data"
   ]
  },
  {
   "cell_type": "markdown",
   "id": "8f9b0815",
   "metadata": {},
   "source": [
    "## 1.2. For many uses cases (including this) a bar chart is a better option than a pie chart.\n",
    "\n",
    "*Humans can more easily interpret differences in bar charts. Pie charts require us to interpret areas = slow, while bar charts use position = fast. Generally, you should choose a bar chart over a pie chart when:*\n",
    "- *There are too many categories to easily distinguish between pie chart areas (as we have here).*\n",
    "- *Slice sizes in the pie chart are too similar (as we have here).*\n",
    "- *You have multiple data sets (which we do not have here).*\n",
    "- *When the raw percentages can provide as much (or more) meaning than fraction of a whole (as we have here).*\n",
    "\n",
    "*Pie charts are only useful when there are few categories, each category has a very different percentage, AND the purpose of your visualization is to show fractions of a whole.*\n",
    "\n",
    "*Here is the default bar chart from ggplot.  Leaves lots to be desired...*"
   ]
  },
  {
   "cell_type": "code",
   "execution_count": null,
   "id": "2b3046eb",
   "metadata": {},
   "outputs": [],
   "source": [
    "ggplot(data, aes(x = Label, y = Value)) +\n",
    "    geom_bar(stat = \"identity\") # use stat = \"identity\" because we are supplying the actual bar values"
   ]
  },
  {
   "cell_type": "markdown",
   "id": "b1b86767",
   "metadata": {},
   "source": [
    "## 1.3. Improve the axis labels and add a plot title\n",
    "\n",
    "*The text for the bars are unreadable.  How should we fix that?*"
   ]
  },
  {
   "cell_type": "code",
   "execution_count": null,
   "id": "9600c7a9",
   "metadata": {},
   "outputs": [],
   "source": [
    "ggplot(data, aes(x = Label, y = Value)) +\n",
    "    geom_bar(stat = \"identity\") + # use stat = \"identity\" because we are supplying the actual bar values\n",
    "    labs(title = \"Percentage of Poor Usage\", x = \"\", y = \"Percent\")"
   ]
  },
  {
   "cell_type": "markdown",
   "id": "550dab46",
   "metadata": {},
   "source": [
    "## 1.4. Fix the bar text, sort the data, add the percentage values to each bar"
   ]
  },
  {
   "cell_type": "code",
   "execution_count": null,
   "id": "548aca4c",
   "metadata": {},
   "outputs": [],
   "source": [
    "ggplot(data, aes(x = reorder(Label, Value), y = Value)) +\n",
    "    geom_bar(stat = \"identity\") + # use stat = \"identity\" because we are supplying the actual bar values\n",
    "    labs(title = \"Percentage of Poor Usage\", x = \"\", y = \"\") + \n",
    "    coord_flip() + # this flips the plot to horizontal\n",
    "    geom_text(aes(label = paste0(Value,\"%\")), vjust = 0, hjust = -0.2) + # add labels\n",
    "    ylim(0,11) # add some space for the text labels; since we flipped the plot we use \"ylim\" (instead of \"xlim\")"
   ]
  },
  {
   "cell_type": "markdown",
   "id": "06186178",
   "metadata": {},
   "source": [
    "## 1.5. Clean this up a bit\n",
    "- *I don't want the grid lines anymore*\n",
    "- *We can remove the axes entirely*\n",
    "- *Make the font larger*\n",
    "- *Let's change the colors, and highlight one of them*\n",
    "- *Save the plot*"
   ]
  },
  {
   "cell_type": "code",
   "execution_count": null,
   "id": "3d577452",
   "metadata": {},
   "outputs": [],
   "source": [
    "# Make plot wider for display\n",
    "options(repr.plot.width = 15, repr.plot.height = 8)\n",
    "\n",
    "ggplot(data, aes(x = reorder(Label, Value),\n",
    "                  y = Value,\n",
    "                  fill = factor(ifelse(Label == \"Color Choice\", \"Highlighted\", \"Normal\")))) + # to highlight one bar\n",
    "    geom_bar(stat = \"identity\", show.legend = FALSE) + # use stat = \"identity\" because we are supplying the actual bar values\n",
    "    labs(title = \"Percentage of Poor Usage in Data Visualization\", x = \"\", y = \"\") + \n",
    "    coord_flip() + # this flips the plot to horizontal\n",
    "    geom_text(aes(label = paste0(Value,\"%\")), vjust = 0, hjust = -0.2, size = 6) + # add labels\n",
    "    ylim(0,11) + # add some space for the text labels; since we flipped the plot we use \"ylim\" (instead of \"xlim\")\n",
    "    scale_fill_manual(name = \"\", values = c(\"orange\",\"grey50\")) + # set the colors for highlighting\n",
    "    theme_classic() + # there are many themes to choose from : https://ggplot2.tidyverse.org/reference/ggtheme.html\n",
    "    theme(axis.line = element_blank(), # remove the remaining axis lines\n",
    "          axis.text.x = element_blank(), # remove x axis labels\n",
    "          axis.ticks.x = element_blank(), # remove x axis ticks\n",
    "          axis.ticks.y = element_blank(),  # remove y axis ticks\n",
    "          axis.text = element_text(size = 20), # increase the font size of the labels\n",
    "          plot.title = element_text(size = 30) # increase the font size of the title\n",
    "          )\n",
    "\n",
    "# save the figure (have to specify size here again)\n",
    "# ggsave(\"bar_r.pdf\", device = \"pdf\", width = 15, height = 8)"
   ]
  },
  {
   "cell_type": "markdown",
   "id": "289438e1",
   "metadata": {},
   "source": [
    "# 2. Scatter Plots"
   ]
  },
  {
   "cell_type": "code",
   "execution_count": null,
   "id": "6e0a1156",
   "metadata": {
    "scrolled": true
   },
   "outputs": [],
   "source": [
    "# import the necessary library\n",
    "library(ggplot2)\n",
    "library(ggforce) # only needed to draw the large annotation circles on the scatter plots"
   ]
  },
  {
   "cell_type": "markdown",
   "id": "679b5044",
   "metadata": {},
   "source": [
    "## 2.1. Read in the data\n",
    "\n",
    "*These two data sets are from https://voteview.com/data and use the using the [DW-NOMINATE method](https://en.wikipedia.org/wiki/NOMINATE_(scaling_method)) to evaluate the political characteristics of individuals on a scale from -1 to 1.  Each row in the data is for a different congress person and contains the name, and \"x\" value and an \"alt\" value.  The horizonal axis, \"x\", measures the level of liberal (low \"x\") or conservative (high \"x\") ideology and can also be interpreted as the position on government intervention in the economy.  The vertical axis, \"alt\" can be interpreted as the position on cross-cutting, salient issues of the day.  Most experts agree that the \"x\" dimension explains the vast majority of differences in voting behaviors.*\n",
    "\n",
    "*I'm using ```read.csv``` to read in the data.*"
   ]
  },
  {
   "cell_type": "code",
   "execution_count": null,
   "id": "042b6436",
   "metadata": {},
   "outputs": [],
   "source": [
    "url90 = 'https://raw.githubusercontent.com/ageller/IDEAS_FSS-Vis/master/matplotlib/scatter/congress90.csv'\n",
    "c90 = read.csv(url90)\n",
    "head(c90)"
   ]
  },
  {
   "cell_type": "code",
   "execution_count": null,
   "id": "2ae74c9e",
   "metadata": {},
   "outputs": [],
   "source": [
    "url116 = 'https://raw.githubusercontent.com/ageller/IDEAS_FSS-Vis/master/matplotlib/scatter/congress116.csv'\n",
    "c116 = read.csv(url116)\n",
    "head(c116)"
   ]
  },
  {
   "cell_type": "markdown",
   "id": "0c5d3264",
   "metadata": {},
   "source": [
    "## 2.2 Let's plot these as two subplots\n",
    "\n",
    "*Is there anything that we should improve upon here?*"
   ]
  },
  {
   "cell_type": "code",
   "execution_count": null,
   "id": "796f50cd",
   "metadata": {},
   "outputs": [],
   "source": [
    "# There are a couple ways that you can do this.  \n",
    "# One would be to create two separate plots and use the gridExtra library to put them into one figure.\n",
    "# The other, which we will use here, is to use facets.\n",
    "\n",
    "# First, add a descriptive column to each dataframe and combine them\n",
    "c90$label <- \"Congress 90\"\n",
    "c116$label <- \"Congress 116\"\n",
    "\n",
    "data2 <- rbind(c90, c116)\n",
    "\n",
    "# create the scatter plot with facets\n",
    "ggplot(data = data2, aes(x = x, y = alt)) +\n",
    "    geom_point() + \n",
    "    facet_wrap(~label)"
   ]
  },
  {
   "cell_type": "markdown",
   "id": "724fd9c7",
   "metadata": {},
   "source": [
    "## 2.3 Let's improve this\n",
    "- *add some descriptive labels to the axes*\n",
    "- *improve the colors*\n",
    "- *increase the font sizes*"
   ]
  },
  {
   "cell_type": "code",
   "execution_count": null,
   "id": "c6d3c974",
   "metadata": {},
   "outputs": [],
   "source": [
    "# more descriptive labels for the facets\n",
    "c90$label <- \"1967 - 1969\"\n",
    "c116$label <- \"2019 - 2021\"\n",
    "\n",
    "data2 <- rbind(c90, c116)\n",
    "\n",
    "ggplot(data = data2, aes(x = x, y = alt)) +\n",
    "    geom_circle(aes(x0 = 0, y0 = 0, r = 1), inherit.aes = FALSE, fill = \"white\") + # draw a bounding circle\n",
    "    geom_point(aes(color = x), size = 4, show.legend = FALSE) + \n",
    "    geom_point(shape = 1, size = 4, color = \"black\") +\n",
    "    facet_wrap(~label) + \n",
    "    labs(title = \"The US Congress Has Become More Politically Polarized\", \n",
    "         x = \"Political ideology\\n (In each panel liberal is to the left, conservative is to the right.)\",\n",
    "         y = \"Position on salient issues\") +\n",
    "    scale_color_gradient2(midpoint = 0, limits = c(-1,1), low = \"#0000FF\", mid = \"white\", high = \"#FF0000\") +\n",
    "    xlim(-1,1) + ylim(-1,1) +\n",
    "    coord_fixed() +  # to ensure an equal aspect ratio\n",
    "    geom_vline(aes(xintercept = 0)) + # add a y-axis at 0\n",
    "    geom_hline(aes(yintercept = 0)) + # add a x-axis at 0\n",
    "    theme(panel.grid.major = element_blank(),  # remove the grid\n",
    "          panel.grid.minor = element_blank(), # remove the grid\n",
    "          axis.title = element_text(size = 26), # increase the font size of the axis titles\n",
    "          plot.title = element_text(size = 36), # increase the font size of the title\n",
    "          strip.text.x = element_text(size = 26), # increase size of the facet labels\n",
    "          axis.text.x = element_blank(), # remove x axis labels\n",
    "          axis.ticks.x = element_blank(), # remove x axis ticks\n",
    "          axis.text.y = element_blank(),  # remove y axis labels\n",
    "          axis.ticks.y = element_blank()  # remove y axis ticks\n",
    "          )\n",
    "\n",
    "# save the figure (have to specify size here)\n",
    "# ggsave(\"scatter_r.pdf\", device = \"pdf\", width = 14, height = 8)"
   ]
  },
  {
   "cell_type": "markdown",
   "id": "4afb14bb",
   "metadata": {},
   "source": [
    "## 2.4 Would this be better as two overlapping histograms?\n",
    "\n",
    "*If we don't really care about the y axis, we don't need to use it.*"
   ]
  },
  {
   "cell_type": "code",
   "execution_count": null,
   "id": "32c9ea1f",
   "metadata": {},
   "outputs": [],
   "source": [
    "# In order to get the look that I want, I will plot each of the groups twice\n",
    "#   once for the shaded interior of the histograms, using geom_histogram\n",
    "#   again for the outline, using stat_bin with geom = \"step\"\n",
    "# Each of these histograms will show the density of the respective data set\n",
    "\n",
    "# set the colors\n",
    "myColors <- c(\"1967 - 1969\" = \"#386B5D\", \"2019 - 2021\" = \"#3D007A\")\n",
    "\n",
    "# define the binwidth\n",
    "binwidth <- 0.1\n",
    "\n",
    "ggplot(data = data2, aes(x = x, color = label, fill = label)) +\n",
    "    geom_histogram(data = subset(data2, label == \"1967 - 1969\"),\n",
    "        aes(fill = label, y = ..density..), \n",
    "        binwidth = binwidth, center = 0, color = NA,\n",
    "        alpha = 0.5, size = 0, show.legend = FALSE) + \n",
    "    geom_histogram(data = subset(data2, label == \"2019 - 2021\"),\n",
    "        aes(fill = label, y = ..density..), \n",
    "        binwidth = binwidth, center = 0, color = NA,\n",
    "        alpha = 0.5, size = 0, show.legend = FALSE) +\n",
    "    stat_bin(data = subset(data2, label == \"1967 - 1969\"),\n",
    "        aes(y = ..density..), geom = \"step\",\n",
    "        binwidth = binwidth, center = 0,\n",
    "        size = 2, position = position_nudge(x = -binwidth/2.), show.legend = FALSE) + \n",
    "    stat_bin(data = subset(data2, label == \"2019 - 2021\"),\n",
    "        aes(y = ..density..), geom = \"step\",\n",
    "        binwidth = binwidth, center = 0,\n",
    "        size = 2, position = position_nudge(x = -binwidth/2.), show.legend = FALSE) + \n",
    "    scale_fill_manual(values = myColors) + # set the color for the filled histograms\n",
    "    scale_color_manual(values = myColors) + # set the color for the lines in stat_bin\n",
    "    labs(title = \"The US Congress Has Become More Politically Polarized.\", \n",
    "         subtitle = \"Conservatives have moved further to the right.\",\n",
    "         x = \"Liberal                 \\u2192         Conservative\",\n",
    "         y = \"\") + \n",
    "    annotate(\"text\", x = 0.1, y = 0.68, label = \"1967 - 1969\", color = myColors[\"1967 - 1969\"], size = 7, hjust = 0) +\n",
    "    annotate(\"text\", x = 0.4, y = 0.68, label = \"2019 - 2021\", color = myColors[\"2019 - 2021\"], size = 7, hjust = 0) +\n",
    "    theme_classic() + \n",
    "    geom_vline(aes(xintercept = 0)) + # add a y-axis at 0\n",
    "    geom_hline(aes(yintercept = 0)) + # add a x-axis at 0\n",
    "    theme(axis.line = element_blank(), # remove the remaining axis lines\n",
    "          axis.text.x = element_blank(), # remove x axis labels\n",
    "          axis.ticks.x = element_blank(), # remove x axis ticks\n",
    "          axis.text.y = element_blank(), # remove y axis labels\n",
    "          axis.ticks.y = element_blank(),  # remove y axis ticks\n",
    "          axis.title = element_text(size = 26), # increase the font size of the title\n",
    "          plot.title = element_text(size = 36, hjust = 0.5), # increase the font size of the title and center align\n",
    "          plot.subtitle = element_text(size = 26, hjust = 0.5) # increase the font size of the subtitle and center align\n",
    "          )\n",
    "\n",
    "# save the figure (have to specify size here)\n",
    "# ggsave(\"hist_r.png\", device = \"png\", width = 15, height = 8)"
   ]
  }
 ],
 "metadata": {
  "kernelspec": {
   "display_name": "R",
   "language": "R",
   "name": "ir"
  },
  "language_info": {
   "codemirror_mode": "r",
   "file_extension": ".r",
   "mimetype": "text/x-r-source",
   "name": "R",
   "pygments_lexer": "r",
   "version": "4.2.2"
  }
 },
 "nbformat": 4,
 "nbformat_minor": 5
}
