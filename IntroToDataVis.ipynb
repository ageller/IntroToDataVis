{
 "cells": [
  {
   "cell_type": "markdown",
   "metadata": {
    "id": "8bS86cADWgJP"
   },
   "source": [
    "# Hands-on with Python + matplotlib\n",
    "\n"
   ]
  },
  {
   "cell_type": "markdown",
   "metadata": {
    "id": "gxi0tNMVq62l"
   },
   "source": [
    "# 1. Improving Pie Charts\n",
    "\n",
    "*What is wrong with this figure?* \n",
    "\n",
    "![](https://drive.google.com/uc?id=1K6hCHovjZV5Icbn3zd-gW86RSRjiH0i-)"
   ]
  },
  {
   "cell_type": "markdown",
   "metadata": {
    "id": "vlv02JW8ZKJC"
   },
   "source": [
    "## Let's agree that this is a monstrosity.  Now, how do we improve it?"
   ]
  },
  {
   "cell_type": "code",
   "execution_count": null,
   "metadata": {
    "id": "D9ShFZowVS9w"
   },
   "outputs": [],
   "source": [
    "import numpy as np\n",
    "import pandas as pd\n",
    "import matplotlib\n",
    "from matplotlib import pyplot as plt\n",
    "\n",
    "%matplotlib inline"
   ]
  },
  {
   "cell_type": "markdown",
   "metadata": {
    "id": "cRotM6c9WXOJ"
   },
   "source": [
    "## 1.1. Read in the data\n",
    "\n",
    "*This is a made up data set that a colleague of mine. We have 10 items, each with a text label and a numeric value.*\n",
    "\n",
    "*I'm using the python library pandas to read in the data.*"
   ]
  },
  {
   "cell_type": "code",
   "execution_count": null,
   "metadata": {
    "id": "H7IQrxfnVjMt"
   },
   "outputs": [],
   "source": [
    "url = 'https://raw.githubusercontent.com/ageller/IDEAS_FSS-Vis/master/matplotlib/bar/bar.csv'\n",
    "data = pd.read_csv(url)\n",
    "data"
   ]
  },
  {
   "cell_type": "markdown",
   "metadata": {
    "id": "brfLA3hbWdyQ"
   },
   "source": [
    "## 1.2. For many uses cases (including this) a bar chart is a better option than a pie chart.\n",
    "\n",
    "*Humans can more easily interpret differences in bar charts. Pie charts require us to interpret areas = slow, while bar charts use position = fast. Generally, you should choose a bar chart over a pie chart when:*\n",
    "- *There are too many categories to easily distinguish between pie chart areas (as we have here).*\n",
    "- *Slice sizes in the pie chart are too similar (as we have here).*\n",
    "- *You have multiple data sets (which we do not have here).*\n",
    "- *When the raw percentages can provide as much (or more) meaning than fraction of a whole (as we have here).*\n",
    "\n",
    "*Pie charts are only useful when there are few categories, each category has a very different percentage, AND the purpose of your visualization is to show fractions of a whole.*\n",
    "\n",
    "*Here is the default bar chart from python.  Leaves lots to be desired...*"
   ]
  },
  {
   "cell_type": "code",
   "execution_count": null,
   "metadata": {
    "id": "BWMajZmDV13V"
   },
   "outputs": [],
   "source": [
    "f,ax = plt.subplots()\n",
    "\n",
    "ind = np.arange(len(data))  # the x locations for the bars\n",
    "width = 0.5 # the width of the bars\n",
    "rects = ax.bar(ind, data['Value'], width)"
   ]
  },
  {
   "cell_type": "markdown",
   "metadata": {
    "id": "Vx654w0cWvZu"
   },
   "source": [
    "## 1.3. Add some labels"
   ]
  },
  {
   "cell_type": "code",
   "execution_count": null,
   "metadata": {
    "id": "_6sg8O-RWv0c"
   },
   "outputs": [],
   "source": [
    "f,ax = plt.subplots()\n",
    "\n",
    "ind = np.arange(len(data))  # the x locations for the bars\n",
    "width = 0.5 # the width of the bars\n",
    "rects = ax.bar(ind, data['Value'], width)\n",
    "\n",
    "# add some text for labels, title and axes ticks\n",
    "ax.set_ylabel('Percent')\n",
    "ax.set_title('Percentage of Poor Usage')\n",
    "ax.set_xticks(ind)\n",
    "_ = ax.set_xticklabels(data['Label'])"
   ]
  },
  {
   "cell_type": "markdown",
   "metadata": {
    "id": "XiY2kgiDW8N8"
   },
   "source": [
    "## 1.4. Sort the data, and add the percentage values to each bar\n"
   ]
  },
  {
   "cell_type": "code",
   "execution_count": null,
   "metadata": {
    "id": "nNl9xZgzWzNp"
   },
   "outputs": [],
   "source": [
    "f,ax = plt.subplots()\n",
    "\n",
    "#sort the data (nice aspect of pandas dataFrames)\n",
    "data.sort_values('Value', inplace=True)\n",
    "\n",
    "ind = np.arange(len(data))  # the x locations for the bars\n",
    "width = 0.5 # the width of the bars\n",
    "rects = ax.barh(ind, data['Value'], width, zorder=2)\n",
    "\n",
    "# add some text for labels, title and axes ticks\n",
    "ax.set_xlabel('Percent')\n",
    "ax.set_title('Percentage of Poor Usage')\n",
    "ax.set_yticks(ind)\n",
    "ax.set_yticklabels(data['Label'])\n",
    "\n",
    "#add a grid behind the plot\n",
    "ax.grid(color='gray', linestyle='-', linewidth=1, zorder = 1)\n",
    "\n",
    "#I grabbed this from here : https://matplotlib.org/examples/api/barchart_demo.html\n",
    "#and tweaked it slightly \n",
    "for r in rects:\n",
    "    h = r.get_height()\n",
    "    w = r.get_width()\n",
    "    y = r.get_y()\n",
    "    if (w > 1):\n",
    "        x = w - 0.5\n",
    "    else:\n",
    "        x = w + 0.5\n",
    "    ax.text(x, y ,'%.1f%%' % w, ha='center', va='bottom', zorder = 3) \n",
    "        "
   ]
  },
  {
   "cell_type": "markdown",
   "metadata": {
    "id": "RUrcErh2XCEW"
   },
   "source": [
    "## 1.5. Clean this up a bit\n",
    "* I don't want the grid lines anymore\n",
    "* Make the font larger\n",
    "* Let's change the colors, and highlight one of them\n",
    "* Save the plot"
   ]
  },
  {
   "cell_type": "code",
   "execution_count": null,
   "metadata": {
    "id": "ug1oyN_tW_C7"
   },
   "outputs": [],
   "source": [
    "#this will change the font globally, but you could also change the fontsize for each label independently\n",
    "font = {'size' : 20}\n",
    "matplotlib.rc('font', **font) \n",
    "\n",
    "f,ax = plt.subplots(figsize=(10,8))\n",
    "\n",
    "#sort the data (nice aspect of pandas dataFrames)\n",
    "data.sort_values('Value', inplace=True)\n",
    "\n",
    "ind = np.arange(len(data))  # the x locations for the bars\n",
    "width = 0.5 # the width of the bars\n",
    "rects = ax.barh(ind, data['Value'], width, zorder=2)\n",
    "\n",
    "# add some text for labels, title and axes ticks\n",
    "ax.set_title('Percentage of Poor Usage in Data Visualization', fontsize = 30)\n",
    "ax.set_yticks(ind)\n",
    "ax.set_yticklabels(data['Label'])\n",
    "\n",
    "#remove all the axes, ticks and lower x label\n",
    "aoff = ['right', 'left', 'top', 'bottom']\n",
    "for x in aoff:\n",
    "    ax.spines[x].set_visible(False)\n",
    "ax.tick_params(length=0)\n",
    "ax.set_xticklabels([' ']*len(data))\n",
    "\n",
    "\n",
    "#I grabbed this from here : https://matplotlib.org/examples/api/barchart_demo.html\n",
    "#and tweaked it slightly \n",
    "highlight = [4]\n",
    "for i, r in enumerate(rects):\n",
    "    h = r.get_height()\n",
    "    w = r.get_width()\n",
    "    y = r.get_y()\n",
    "    if (w >= 10):\n",
    "        x = w - 0.75\n",
    "    elif (w > 1):\n",
    "        x = w - 0.6\n",
    "    else:\n",
    "        x = w + 0.5\n",
    "    r.set_color('gray')\n",
    "    if (i in highlight):\n",
    "        r.set_color('orange')\n",
    "    ax.text(x, y ,'%.1f%%' % w, ha='center', va='bottom', zorder = 3) \n",
    "\n",
    "    \n",
    "#f.savefig('bar.pdf',format='pdf', bbox_inches = 'tight') \n"
   ]
  },
  {
   "cell_type": "markdown",
   "metadata": {
    "id": "U7sjmwi3rlk0"
   },
   "source": [
    "# 2. Scatter Plots"
   ]
  },
  {
   "cell_type": "code",
   "execution_count": null,
   "metadata": {
    "id": "2Mc-dgJ4rnzm"
   },
   "outputs": [],
   "source": [
    "import numpy as np\n",
    "import pandas as pd\n",
    "import matplotlib\n",
    "from matplotlib import pyplot as plt\n",
    "\n",
    "%matplotlib inline"
   ]
  },
  {
   "cell_type": "markdown",
   "metadata": {
    "id": "kRr-mZnjryrq"
   },
   "source": [
    "## 2.1. Read in the data\n",
    "\n",
    "These two data sets are from https://voteview.com/data and use the using the [DW-NOMINATE method](https://en.wikipedia.org/wiki/NOMINATE_(scaling_method)) to evaluate the political characteristics of individuals on a scale from -1 to 1.  Each row in the data is for a different congress person and contains the name, and \"x\" value and an \"alt\" value.  The horizonal axis, \"x\", measures the level of liberal (low \"x\") or conservative (high \"x\") ideology and can also be interpreted as the position on government intervention in the economy.  The vertical axis, \"alt\" can be interpreted as the position on cross-cutting, salient issues of the day.  Most experts agree that the \"x\" dimension explains the vast majority of differences in voting behaviors.\n",
    "\n",
    "*I'm using the python library pandas to read in the data.*"
   ]
  },
  {
   "cell_type": "code",
   "execution_count": null,
   "metadata": {
    "id": "XnMcvE7brt3C"
   },
   "outputs": [],
   "source": [
    "url90 = 'https://raw.githubusercontent.com/ageller/IDEAS_FSS-Vis/master/matplotlib/scatter/congress90.csv'\n",
    "c90 = pd.read_csv(url90)\n",
    "c90"
   ]
  },
  {
   "cell_type": "code",
   "execution_count": null,
   "metadata": {
    "id": "BHk3ZxBGrx5U"
   },
   "outputs": [],
   "source": [
    "url116 = 'https://raw.githubusercontent.com/ageller/IDEAS_FSS-Vis/master/matplotlib/scatter/congress116.csv'\n",
    "c116 = pd.read_csv(url116)\n",
    "c116"
   ]
  },
  {
   "cell_type": "markdown",
   "metadata": {
    "id": "wP6YovQasXk9"
   },
   "source": [
    "## 2.2 Let's plot these as two subplots\n",
    "\n",
    "*Is there anything that we should improve upon here?*"
   ]
  },
  {
   "cell_type": "code",
   "execution_count": null,
   "metadata": {
    "id": "9IuItkOOsUjz"
   },
   "outputs": [],
   "source": [
    "#define the subplots and figure size\n",
    "f, (ax1, ax2) = plt.subplots(1, 2, figsize=(10,7))\n",
    "\n",
    "#plot the data with better colors\n",
    "ax1.scatter(c90['x'], c90['alt'])\n",
    "ax2.scatter(c116['x'], c116['alt'])"
   ]
  },
  {
   "cell_type": "markdown",
   "metadata": {
    "id": "gKxc17pk7rsq"
   },
   "source": [
    "## 2.3 Let's improve this\n",
    "* We need to force the axes to have the same limits\n",
    "* In that case, they could share a y axis\n",
    "* Let's also add some descriptive labels to the axes\n",
    "* We can improve the colors"
   ]
  },
  {
   "cell_type": "code",
   "execution_count": null,
   "metadata": {
    "id": "PCefnoX6sdLa"
   },
   "outputs": [],
   "source": [
    "#define the subplots and figure size\n",
    "f, (ax1, ax2) = plt.subplots(1, 2,  figsize = (14, 6.5), sharey = True)\n",
    "\n",
    "#plot the data with better colors\n",
    "ax1.scatter(c90['x'], c90['alt'],  edgecolors = 'black', zorder = 3, c = c90['x'], cmap = 'bwr', vmin = -1, vmax = 1)\n",
    "ax2.scatter(c116['x'], c116['alt'], edgecolors = 'black', zorder = 3, c = c116['x'], cmap = 'bwr' , vmin = -1, vmax = 1)\n",
    "\n",
    "#add axes labels,and define the limits\n",
    "ax1.set_ylabel('Position on salient issues',fontsize = 18)\n",
    "#lim = 1.07\n",
    "lim = 1.02\n",
    "for a in [ax1, ax2]:\n",
    "    a.set_xlabel(r'Liberal                   $\\rightarrow$          Conservative', fontsize = 18)\n",
    "    a.set_xlim(-lim, lim)\n",
    "    a.set_ylim(-lim, lim)\n",
    "\n",
    "#add titles\n",
    "f.suptitle('The US Congress Has Become More Politically Polarized', fontsize=28,  y=1.06)\n",
    "#ax1.set_title('Congress 90', fontsize = 24)\n",
    "#ax2.set_title('Congress 116', fontsize = 24)\n",
    "ax1.set_title('1967 - 1969', fontsize = 24, y = 1.01)\n",
    "ax2.set_title('2019 - 2021', fontsize = 24, y = 1.01)\n",
    "\n",
    "#add a grid? (and darker lines crossing the origin)\n",
    "#t = np.arange(9)/4. - 1\n",
    "#t = np.arange(5)/2. - 1\n",
    "#maybe even remove the ticks entirely, since they don't really have much physical meaning\n",
    "t = []\n",
    "for a in [ax1, ax2]:\n",
    "    a.set_yticks(t)\n",
    "    a.set_xticks(t)\n",
    "    a.grid(color='lightgray', linestyle='-', linewidth=1, zorder = 1, alpha = 0.5)\n",
    "\n",
    "\n",
    "#add a darker central axis to mark the (0,0) origin\n",
    "for a in [ax1, ax2]:\n",
    "    a.plot([0,0],[-2,2], color='black', zorder = 2, linewidth=1)\n",
    "    a.plot([-2,2],[0,0], color='black', zorder = 2, linewidth=1)\n",
    "\n",
    "#lighten the outer axis?\n",
    "for a in [ax1, ax2]:\n",
    "    a.spines['bottom'].set_color('lightgray')\n",
    "    a.spines['top'].set_color('lightgray') \n",
    "    a.spines['right'].set_color('lightgray')\n",
    "    a.spines['left'].set_color('lightgray')\n",
    "\n",
    "#gray out the area where no data can occupy?\n",
    "x = np.linspace(-lim,lim,500)\n",
    "y = np.nan_to_num((1. - x*x)**0.5)\n",
    "for a in [ax1, ax2]:\n",
    "    a.fill_between(x, lim, y, color='lightgray', alpha=0.5)\n",
    "    a.fill_between(x, -lim, -y, color='lightgray', alpha=0.5)\n",
    "\n",
    "#Fine-tune figure; make subplots close to each other and hide x ticks for\n",
    "f.subplots_adjust(wspace=0.02)\n",
    "\n",
    "#also hide the ticks in the middle \n",
    "ax2.yaxis.set_ticks_position('none') \n",
    "\n",
    "#f.savefig('scatter.pdf',format='pdf', bbox_inches = 'tight')"
   ]
  },
  {
   "cell_type": "markdown",
   "metadata": {
    "id": "8VS14dU9OTGg"
   },
   "source": [
    "## 2.4 Would this be better as two overlapping histograms?\n",
    "\n",
    "*If we don't really care about the y axis, we don't need to use it.*"
   ]
  },
  {
   "cell_type": "code",
   "execution_count": null,
   "metadata": {
    "id": "M80PInFoOPTy"
   },
   "outputs": [],
   "source": [
    "f, ax = plt.subplots(figsize=(10,5))\n",
    "\n",
    "color1 = '#386B5D'\n",
    "color2 = '#3D007A'\n",
    "bins = np.linspace(-1,1,16)\n",
    "ax.hist(c90['x'], bins=bins, density=True, alpha=0.5, color=color1)\n",
    "ax.hist(c90['x'], bins=bins, density=True, histtype='step', color=color1, linewidth=2)\n",
    "ax.hist(c116['x'], bins=bins, density=True, alpha=0.5, color=color2)\n",
    "ax.hist(c116['x'], bins=bins, density=True, histtype='step', color=color2, linewidth=2)\n",
    "\n",
    "#add title and labels\n",
    "f.suptitle('The US Congress Has Become More\\nPolitically Polarized.', fontsize=28,  y=1.17, x=0.52)\n",
    "ax.set_title('Conservatives have moved further to the right.', fontsize=18, y=1.05)\n",
    "ax.set_xlabel(r'Liberal                  $\\rightarrow$         Conservative', fontsize = 18)\n",
    "\n",
    "#set the limits\n",
    "ax.set_xlim(-1, 1)\n",
    "ax.set_ylim(0, 1.7)\n",
    "\n",
    "#remove the ticks entirely, since they don't really have much physical meaning\n",
    "t = []\n",
    "ax.set_yticks(t)\n",
    "ax.set_xticks(t)\n",
    "\n",
    "#add a center line\n",
    "ax.plot([0,0],[0,1.6], color = 'black')\n",
    "\n",
    "#remove a few of the axes?\n",
    "ax.spines['top'].set_visible(False) \n",
    "ax.spines['right'].set_visible(False) \n",
    "ax.spines['left'].set_visible(False) \n",
    "\n",
    "#add annotations\n",
    "#ax.annotate(\"1967 - 1969\", xy = (0.5,1.5), fontsize = 14, color = color1)\n",
    "#ax.annotate(\"2019 - 2021\", xy = (0.5,1.37), fontsize = 14, color = color2)\n",
    "ax.annotate(\"1967 - 1969\", xy = (0.01,0.55), fontsize = 14, color = color1)\n",
    "ax.annotate(\"2019 - 2021\", xy = (0.37,0.55), fontsize = 14, color = color2)\n",
    "\n",
    "#f.savefig('hist.pdf',format='pdf', bbox_inches = 'tight')"
   ]
  },
  {
   "cell_type": "code",
   "execution_count": null,
   "metadata": {
    "id": "iDnnv7oKOs2J"
   },
   "outputs": [],
   "source": []
  }
 ],
 "metadata": {
  "colab": {
   "collapsed_sections": [],
   "name": "IntroToDataVis.ipynb",
   "provenance": []
  },
  "kernelspec": {
   "display_name": "Python 3 (ipykernel)",
   "language": "python",
   "name": "python3"
  },
  "language_info": {
   "codemirror_mode": {
    "name": "ipython",
    "version": 3
   },
   "file_extension": ".py",
   "mimetype": "text/x-python",
   "name": "python",
   "nbconvert_exporter": "python",
   "pygments_lexer": "ipython3",
   "version": "3.10.4"
  }
 },
 "nbformat": 4,
 "nbformat_minor": 1
}
